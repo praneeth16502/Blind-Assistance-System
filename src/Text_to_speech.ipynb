{
  "nbformat": 4,
  "nbformat_minor": 0,
  "metadata": {
    "colab": {
      "name": "Copy of Text to speech.ipynb",
      "provenance": [],
      "collapsed_sections": []
    },
    "kernelspec": {
      "name": "python3",
      "display_name": "Python 3"
    },
    "language_info": {
      "name": "python"
    },
    "accelerator": "GPU"
  },
  "cells": [
    {
      "cell_type": "code",
      "metadata": {
        "colab": {
          "base_uri": "https://localhost:8080/"
        },
        "id": "QXlA_QeD8iAG",
        "outputId": "f5e6c62d-2529-4efc-b54d-cecbed364a4a"
      },
      "source": [
        "!apt update\n",
        "!apt install software-properties-common\n",
        "!add-apt-repository -y ppa:alex-p/tesseract-ocr\n",
        "!apt install tesseract-ocr\n",
        "!pip install pytesseract\n",
        "!pip install gTTS"
      ],
      "execution_count": null,
      "outputs": [
        {
          "output_type": "stream",
          "name": "stdout",
          "text": [
            "\u001b[33m\r0% [Working]\u001b[0m\r            \rGet:1 http://security.ubuntu.com/ubuntu bionic-security InRelease [88.7 kB]\n",
            "Get:2 https://cloud.r-project.org/bin/linux/ubuntu bionic-cran40/ InRelease [3,626 B]\n",
            "Ign:3 https://developer.download.nvidia.com/compute/cuda/repos/ubuntu1804/x86_64  InRelease\n",
            "Get:4 http://ppa.launchpad.net/c2d4u.team/c2d4u4.0+/ubuntu bionic InRelease [15.9 kB]\n",
            "Ign:5 https://developer.download.nvidia.com/compute/machine-learning/repos/ubuntu1804/x86_64  InRelease\n",
            "Get:6 https://developer.download.nvidia.com/compute/cuda/repos/ubuntu1804/x86_64  Release [696 B]\n",
            "Hit:7 https://developer.download.nvidia.com/compute/machine-learning/repos/ubuntu1804/x86_64  Release\n",
            "Get:8 https://developer.download.nvidia.com/compute/cuda/repos/ubuntu1804/x86_64  Release.gpg [836 B]\n",
            "Hit:9 http://archive.ubuntu.com/ubuntu bionic InRelease\n",
            "Get:10 http://archive.ubuntu.com/ubuntu bionic-updates InRelease [88.7 kB]\n",
            "Hit:11 http://ppa.launchpad.net/cran/libgit2/ubuntu bionic InRelease\n",
            "Get:12 http://security.ubuntu.com/ubuntu bionic-security/universe amd64 Packages [1,442 kB]\n",
            "Hit:13 http://ppa.launchpad.net/deadsnakes/ppa/ubuntu bionic InRelease\n",
            "Get:14 http://security.ubuntu.com/ubuntu bionic-security/main amd64 Packages [2,430 kB]\n",
            "Hit:15 http://ppa.launchpad.net/graphics-drivers/ppa/ubuntu bionic InRelease\n",
            "Get:16 http://archive.ubuntu.com/ubuntu bionic-backports InRelease [74.6 kB]\n",
            "Get:18 https://developer.download.nvidia.com/compute/cuda/repos/ubuntu1804/x86_64  Packages [828 kB]\n",
            "Get:19 http://ppa.launchpad.net/c2d4u.team/c2d4u4.0+/ubuntu bionic/main Sources [1,813 kB]\n",
            "Get:20 http://archive.ubuntu.com/ubuntu bionic-updates/universe amd64 Packages [2,222 kB]\n",
            "Get:21 http://ppa.launchpad.net/c2d4u.team/c2d4u4.0+/ubuntu bionic/main amd64 Packages [928 kB]\n",
            "Get:22 http://archive.ubuntu.com/ubuntu bionic-updates/main amd64 Packages [2,867 kB]\n",
            "Fetched 12.8 MB in 3s (3,704 kB/s)\n",
            "Reading package lists... Done\n",
            "Building dependency tree       \n",
            "Reading state information... Done\n",
            "39 packages can be upgraded. Run 'apt list --upgradable' to see them.\n",
            "Reading package lists... Done\n",
            "Building dependency tree       \n",
            "Reading state information... Done\n",
            "The following additional packages will be installed:\n",
            "  python3-software-properties\n",
            "Recommended packages:\n",
            "  unattended-upgrades\n",
            "The following packages will be upgraded:\n",
            "  python3-software-properties software-properties-common\n",
            "2 upgraded, 0 newly installed, 0 to remove and 37 not upgraded.\n",
            "Need to get 33.8 kB of archives.\n",
            "After this operation, 0 B of additional disk space will be used.\n",
            "Get:1 http://archive.ubuntu.com/ubuntu bionic-updates/main amd64 software-properties-common all 0.96.24.32.18 [10.1 kB]\n",
            "Get:2 http://archive.ubuntu.com/ubuntu bionic-updates/main amd64 python3-software-properties all 0.96.24.32.18 [23.8 kB]\n",
            "Fetched 33.8 kB in 1s (65.7 kB/s)\n",
            "(Reading database ... 155222 files and directories currently installed.)\n",
            "Preparing to unpack .../software-properties-common_0.96.24.32.18_all.deb ...\n",
            "Unpacking software-properties-common (0.96.24.32.18) over (0.96.24.32.14) ...\n",
            "Preparing to unpack .../python3-software-properties_0.96.24.32.18_all.deb ...\n",
            "Unpacking python3-software-properties (0.96.24.32.18) over (0.96.24.32.14) ...\n",
            "Setting up python3-software-properties (0.96.24.32.18) ...\n",
            "Setting up software-properties-common (0.96.24.32.18) ...\n",
            "Processing triggers for dbus (1.12.2-1ubuntu1.2) ...\n",
            "Processing triggers for man-db (2.8.3-2ubuntu0.1) ...\n",
            "Traceback (most recent call last):\n",
            "  File \"/usr/bin/add-apt-repository\", line 12, in <module>\n",
            "    from softwareproperties.SoftwareProperties import SoftwareProperties, shortcut_handler\n",
            "  File \"/usr/lib/python3/dist-packages/softwareproperties/SoftwareProperties.py\", line 67, in <module>\n",
            "    from gi.repository import Gio\n",
            "  File \"/usr/lib/python3/dist-packages/gi/__init__.py\", line 42, in <module>\n",
            "    from . import _gi\n",
            "ImportError: cannot import name '_gi' from 'gi' (/usr/lib/python3/dist-packages/gi/__init__.py)\n",
            "Reading package lists... Done\n",
            "Building dependency tree       \n",
            "Reading state information... Done\n",
            "The following additional packages will be installed:\n",
            "  tesseract-ocr-eng tesseract-ocr-osd\n",
            "The following NEW packages will be installed:\n",
            "  tesseract-ocr tesseract-ocr-eng tesseract-ocr-osd\n",
            "0 upgraded, 3 newly installed, 0 to remove and 37 not upgraded.\n",
            "Need to get 4,795 kB of archives.\n",
            "After this operation, 15.8 MB of additional disk space will be used.\n",
            "Get:1 http://archive.ubuntu.com/ubuntu bionic/universe amd64 tesseract-ocr-eng all 4.00~git24-0e00fe6-1.2 [1,588 kB]\n",
            "Get:2 http://archive.ubuntu.com/ubuntu bionic/universe amd64 tesseract-ocr-osd all 4.00~git24-0e00fe6-1.2 [2,989 kB]\n",
            "Get:3 http://archive.ubuntu.com/ubuntu bionic/universe amd64 tesseract-ocr amd64 4.00~git2288-10f4998a-2 [218 kB]\n",
            "Fetched 4,795 kB in 1s (3,590 kB/s)\n",
            "Selecting previously unselected package tesseract-ocr-eng.\n",
            "(Reading database ... 155222 files and directories currently installed.)\n",
            "Preparing to unpack .../tesseract-ocr-eng_4.00~git24-0e00fe6-1.2_all.deb ...\n",
            "Unpacking tesseract-ocr-eng (4.00~git24-0e00fe6-1.2) ...\n",
            "Selecting previously unselected package tesseract-ocr-osd.\n",
            "Preparing to unpack .../tesseract-ocr-osd_4.00~git24-0e00fe6-1.2_all.deb ...\n",
            "Unpacking tesseract-ocr-osd (4.00~git24-0e00fe6-1.2) ...\n",
            "Selecting previously unselected package tesseract-ocr.\n",
            "Preparing to unpack .../tesseract-ocr_4.00~git2288-10f4998a-2_amd64.deb ...\n",
            "Unpacking tesseract-ocr (4.00~git2288-10f4998a-2) ...\n",
            "Setting up tesseract-ocr-osd (4.00~git24-0e00fe6-1.2) ...\n",
            "Setting up tesseract-ocr-eng (4.00~git24-0e00fe6-1.2) ...\n",
            "Setting up tesseract-ocr (4.00~git2288-10f4998a-2) ...\n",
            "Processing triggers for man-db (2.8.3-2ubuntu0.1) ...\n",
            "Collecting pytesseract\n",
            "  Downloading pytesseract-0.3.8.tar.gz (14 kB)\n",
            "Requirement already satisfied: Pillow in /usr/local/lib/python3.7/dist-packages (from pytesseract) (7.1.2)\n",
            "Building wheels for collected packages: pytesseract\n",
            "  Building wheel for pytesseract (setup.py) ... \u001b[?25l\u001b[?25hdone\n",
            "  Created wheel for pytesseract: filename=pytesseract-0.3.8-py2.py3-none-any.whl size=14072 sha256=0a7938da9356ce32e6558d05362c5fc045b1d07374162a908af66b2262c6c69f\n",
            "  Stored in directory: /root/.cache/pip/wheels/a4/89/b9/3f11250225d0f90e5454fcc30fd1b7208db226850715aa9ace\n",
            "Successfully built pytesseract\n",
            "Installing collected packages: pytesseract\n",
            "Successfully installed pytesseract-0.3.8\n",
            "Collecting gTTS\n",
            "  Downloading gTTS-2.2.3-py3-none-any.whl (25 kB)\n",
            "Requirement already satisfied: click in /usr/local/lib/python3.7/dist-packages (from gTTS) (7.1.2)\n",
            "Requirement already satisfied: six in /usr/local/lib/python3.7/dist-packages (from gTTS) (1.15.0)\n",
            "Requirement already satisfied: requests in /usr/local/lib/python3.7/dist-packages (from gTTS) (2.23.0)\n",
            "Requirement already satisfied: certifi>=2017.4.17 in /usr/local/lib/python3.7/dist-packages (from requests->gTTS) (2021.10.8)\n",
            "Requirement already satisfied: idna<3,>=2.5 in /usr/local/lib/python3.7/dist-packages (from requests->gTTS) (2.10)\n",
            "Requirement already satisfied: chardet<4,>=3.0.2 in /usr/local/lib/python3.7/dist-packages (from requests->gTTS) (3.0.4)\n",
            "Requirement already satisfied: urllib3!=1.25.0,!=1.25.1,<1.26,>=1.21.1 in /usr/local/lib/python3.7/dist-packages (from requests->gTTS) (1.24.3)\n",
            "Installing collected packages: gTTS\n",
            "Successfully installed gTTS-2.2.3\n"
          ]
        }
      ]
    },
    {
      "cell_type": "code",
      "metadata": {
        "id": "c5Mfg7AUIH62",
        "colab": {
          "base_uri": "https://localhost:8080/"
        },
        "outputId": "cdb180a3-9bee-44ed-f639-cc8af144d6b4"
      },
      "source": [
        "from google.colab import drive\n",
        "drive.mount('/content/drive')"
      ],
      "execution_count": null,
      "outputs": [
        {
          "output_type": "stream",
          "name": "stdout",
          "text": [
            "Mounted at /content/drive\n"
          ]
        }
      ]
    },
    {
      "cell_type": "code",
      "metadata": {
        "colab": {
          "base_uri": "https://localhost:8080/",
          "height": 497
        },
        "id": "003a0NRfzxsZ",
        "outputId": "f42c2945-2aaf-4d90-c285-70d468bdfbf8"
      },
      "source": [
        "import cv2\n",
        "from PIL import Image\n",
        "\n",
        "import pytesseract\n",
        "from google.colab.patches import cv2_imshow\n",
        "\n",
        "pytesseract.pytesseract.tesseract_cmd = (\n",
        "  r'/usr/bin/tesseract'\n",
        ")\n",
        "\n",
        "\n",
        "image = cv2.imread('/content/drive/MyDrive/DIP/DIP.png')\n",
        "cv2_imshow(image)\n",
        "image = cv2.cvtColor(image, cv2.COLOR_BGR2RGB)\n",
        "# use Tesseract to OCR the image\n",
        "text = pytesseract.image_to_string(image)\n",
        "print(text)\n",
        "from gtts import gTTS #Import Google Text to Speech\n",
        "from IPython.display import Audio #Import Audio method from IPython's Display Class\n",
        "tts = gTTS(text) #Provide the string to convert to speech\n",
        "tts.save('2.wav') #save the string converted to speech as a .wav file\n",
        "sound_file = '2.wav'\n",
        "Audio(sound_file, autoplay=True) "
      ],
      "execution_count": null,
      "outputs": [
        {
          "output_type": "display_data",
          "data": {
            "image/png": "[encoded data removed]",
            "text/plain": [
              "<PIL.Image.Image image mode=RGB size=862x352 at 0x7FC5EE7C9950>"
            ]
          },
          "metadata": {}
        },
        {
          "output_type": "stream",
          "name": "stdout",
          "text": [
            "Hope Our\n",
            "Presentation is\n",
            "good...\n",
            "\f\n"
          ]
        },
        {
          "output_type": "execute_result",
          "data": {
            "text/html": [
              "\n",
              "                <audio controls=\"controls\" autoplay=\"autoplay\">\n",
              "                    <source src=\"data:audio/x-wav;base64,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\" type=\"audio/x-wav\" />\n",
              "                    Your browser does not support the audio element.\n",
              "                </audio>\n",
              "              "
            ],
            "text/plain": [
              "<IPython.lib.display.Audio object>"
            ]
          },
          "metadata": {},
          "execution_count": 3
        }
      ]
    }
  ]
}